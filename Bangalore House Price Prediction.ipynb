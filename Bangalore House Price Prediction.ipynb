{
 "cells": [
  {
   "cell_type": "markdown",
   "id": "7e5ee3c6-2a17-4381-9a92-cd88f3125a7c",
   "metadata": {},
   "source": [
    "# Predicting the Price Of A House In Bangalore\n",
    "\n",
    "This notebook reads a CSV file containing information about various houses that are on sale in Bangalore at the time of this project. The aim is to build a machine learning model that will predict the price of a house based on various factors like bhk, the total square feet, the number of bathrooms, the number of balconies available, and the location. "
   ]
  },
  {
   "cell_type": "markdown",
   "id": "f8bf893e-32fa-4653-b38c-79cb05a23935",
   "metadata": {},
   "source": [
    "Importing all the neccesary liabaries:"
   ]
  },
  {
   "cell_type": "code",
   "execution_count": 1,
   "id": "0e322b91-35df-4788-96e1-3e76fadeee7f",
   "metadata": {
    "tags": []
   },
   "outputs": [],
   "source": [
    "import numpy as np\n",
    "import pandas as pd\n",
    "from statistics import mode\n",
    "from sklearn.svm import SVR\n",
    "import matplotlib.pyplot as plt\n",
    "from sklearn.linear_model import Lasso\n",
    "from sklearn.tree import DecisionTreeRegressor\n",
    "from sklearn.preprocessing import StandardScaler\n",
    "from sklearn.model_selection import ShuffleSplit\n",
    "from sklearn.model_selection import GridSearchCV\n",
    "from sklearn.ensemble import RandomForestRegressor"
   ]
  },
  {
   "cell_type": "markdown",
   "id": "3f516d5c-557f-4f78-9b74-cad9b6ece532",
   "metadata": {},
   "source": [
    "Reading the data using pandas:"
   ]
  },
  {
   "cell_type": "code",
   "execution_count": 2,
   "id": "e9d2dfe5-171b-41eb-b26f-ea75e5cf8d42",
   "metadata": {
    "tags": []
   },
   "outputs": [
    {
     "data": {
      "text/html": [
       "<div>\n",
       "<style scoped>\n",
       "    .dataframe tbody tr th:only-of-type {\n",
       "        vertical-align: middle;\n",
       "    }\n",
       "\n",
       "    .dataframe tbody tr th {\n",
       "        vertical-align: top;\n",
       "    }\n",
       "\n",
       "    .dataframe thead th {\n",
       "        text-align: right;\n",
       "    }\n",
       "</style>\n",
       "<table border=\"1\" class=\"dataframe\">\n",
       "  <thead>\n",
       "    <tr style=\"text-align: right;\">\n",
       "      <th></th>\n",
       "      <th>area_type</th>\n",
       "      <th>availability</th>\n",
       "      <th>location</th>\n",
       "      <th>size</th>\n",
       "      <th>society</th>\n",
       "      <th>total_sqft</th>\n",
       "      <th>bath</th>\n",
       "      <th>balcony</th>\n",
       "      <th>price</th>\n",
       "    </tr>\n",
       "  </thead>\n",
       "  <tbody>\n",
       "    <tr>\n",
       "      <th>0</th>\n",
       "      <td>Super built-up  Area</td>\n",
       "      <td>19-Dec</td>\n",
       "      <td>Electronic City Phase II</td>\n",
       "      <td>2 BHK</td>\n",
       "      <td>Coomee</td>\n",
       "      <td>1056</td>\n",
       "      <td>2.0</td>\n",
       "      <td>1.0</td>\n",
       "      <td>39.07</td>\n",
       "    </tr>\n",
       "    <tr>\n",
       "      <th>1</th>\n",
       "      <td>Plot  Area</td>\n",
       "      <td>Ready To Move</td>\n",
       "      <td>Chikka Tirupathi</td>\n",
       "      <td>4 Bedroom</td>\n",
       "      <td>Theanmp</td>\n",
       "      <td>2600</td>\n",
       "      <td>5.0</td>\n",
       "      <td>3.0</td>\n",
       "      <td>120.00</td>\n",
       "    </tr>\n",
       "    <tr>\n",
       "      <th>2</th>\n",
       "      <td>Built-up  Area</td>\n",
       "      <td>Ready To Move</td>\n",
       "      <td>Uttarahalli</td>\n",
       "      <td>3 BHK</td>\n",
       "      <td>NaN</td>\n",
       "      <td>1440</td>\n",
       "      <td>2.0</td>\n",
       "      <td>3.0</td>\n",
       "      <td>62.00</td>\n",
       "    </tr>\n",
       "    <tr>\n",
       "      <th>3</th>\n",
       "      <td>Super built-up  Area</td>\n",
       "      <td>Ready To Move</td>\n",
       "      <td>Lingadheeranahalli</td>\n",
       "      <td>3 BHK</td>\n",
       "      <td>Soiewre</td>\n",
       "      <td>1521</td>\n",
       "      <td>3.0</td>\n",
       "      <td>1.0</td>\n",
       "      <td>95.00</td>\n",
       "    </tr>\n",
       "    <tr>\n",
       "      <th>4</th>\n",
       "      <td>Super built-up  Area</td>\n",
       "      <td>Ready To Move</td>\n",
       "      <td>Kothanur</td>\n",
       "      <td>2 BHK</td>\n",
       "      <td>NaN</td>\n",
       "      <td>1200</td>\n",
       "      <td>2.0</td>\n",
       "      <td>1.0</td>\n",
       "      <td>51.00</td>\n",
       "    </tr>\n",
       "    <tr>\n",
       "      <th>...</th>\n",
       "      <td>...</td>\n",
       "      <td>...</td>\n",
       "      <td>...</td>\n",
       "      <td>...</td>\n",
       "      <td>...</td>\n",
       "      <td>...</td>\n",
       "      <td>...</td>\n",
       "      <td>...</td>\n",
       "      <td>...</td>\n",
       "    </tr>\n",
       "    <tr>\n",
       "      <th>13315</th>\n",
       "      <td>Built-up  Area</td>\n",
       "      <td>Ready To Move</td>\n",
       "      <td>Whitefield</td>\n",
       "      <td>5 Bedroom</td>\n",
       "      <td>ArsiaEx</td>\n",
       "      <td>3453</td>\n",
       "      <td>4.0</td>\n",
       "      <td>0.0</td>\n",
       "      <td>231.00</td>\n",
       "    </tr>\n",
       "    <tr>\n",
       "      <th>13316</th>\n",
       "      <td>Super built-up  Area</td>\n",
       "      <td>Ready To Move</td>\n",
       "      <td>Richards Town</td>\n",
       "      <td>4 BHK</td>\n",
       "      <td>NaN</td>\n",
       "      <td>3600</td>\n",
       "      <td>5.0</td>\n",
       "      <td>NaN</td>\n",
       "      <td>400.00</td>\n",
       "    </tr>\n",
       "    <tr>\n",
       "      <th>13317</th>\n",
       "      <td>Built-up  Area</td>\n",
       "      <td>Ready To Move</td>\n",
       "      <td>Raja Rajeshwari Nagar</td>\n",
       "      <td>2 BHK</td>\n",
       "      <td>Mahla T</td>\n",
       "      <td>1141</td>\n",
       "      <td>2.0</td>\n",
       "      <td>1.0</td>\n",
       "      <td>60.00</td>\n",
       "    </tr>\n",
       "    <tr>\n",
       "      <th>13318</th>\n",
       "      <td>Super built-up  Area</td>\n",
       "      <td>18-Jun</td>\n",
       "      <td>Padmanabhanagar</td>\n",
       "      <td>4 BHK</td>\n",
       "      <td>SollyCl</td>\n",
       "      <td>4689</td>\n",
       "      <td>4.0</td>\n",
       "      <td>1.0</td>\n",
       "      <td>488.00</td>\n",
       "    </tr>\n",
       "    <tr>\n",
       "      <th>13319</th>\n",
       "      <td>Super built-up  Area</td>\n",
       "      <td>Ready To Move</td>\n",
       "      <td>Doddathoguru</td>\n",
       "      <td>1 BHK</td>\n",
       "      <td>NaN</td>\n",
       "      <td>550</td>\n",
       "      <td>1.0</td>\n",
       "      <td>1.0</td>\n",
       "      <td>17.00</td>\n",
       "    </tr>\n",
       "  </tbody>\n",
       "</table>\n",
       "<p>13320 rows × 9 columns</p>\n",
       "</div>"
      ],
      "text/plain": [
       "                  area_type   availability                  location   \n",
       "0      Super built-up  Area         19-Dec  Electronic City Phase II  \\\n",
       "1                Plot  Area  Ready To Move          Chikka Tirupathi   \n",
       "2            Built-up  Area  Ready To Move               Uttarahalli   \n",
       "3      Super built-up  Area  Ready To Move        Lingadheeranahalli   \n",
       "4      Super built-up  Area  Ready To Move                  Kothanur   \n",
       "...                     ...            ...                       ...   \n",
       "13315        Built-up  Area  Ready To Move                Whitefield   \n",
       "13316  Super built-up  Area  Ready To Move             Richards Town   \n",
       "13317        Built-up  Area  Ready To Move     Raja Rajeshwari Nagar   \n",
       "13318  Super built-up  Area         18-Jun           Padmanabhanagar   \n",
       "13319  Super built-up  Area  Ready To Move              Doddathoguru   \n",
       "\n",
       "            size  society total_sqft  bath  balcony   price  \n",
       "0          2 BHK  Coomee        1056   2.0      1.0   39.07  \n",
       "1      4 Bedroom  Theanmp       2600   5.0      3.0  120.00  \n",
       "2          3 BHK      NaN       1440   2.0      3.0   62.00  \n",
       "3          3 BHK  Soiewre       1521   3.0      1.0   95.00  \n",
       "4          2 BHK      NaN       1200   2.0      1.0   51.00  \n",
       "...          ...      ...        ...   ...      ...     ...  \n",
       "13315  5 Bedroom  ArsiaEx       3453   4.0      0.0  231.00  \n",
       "13316      4 BHK      NaN       3600   5.0      NaN  400.00  \n",
       "13317      2 BHK  Mahla T       1141   2.0      1.0   60.00  \n",
       "13318      4 BHK  SollyCl       4689   4.0      1.0  488.00  \n",
       "13319      1 BHK      NaN        550   1.0      1.0   17.00  \n",
       "\n",
       "[13320 rows x 9 columns]"
      ]
     },
     "execution_count": 2,
     "metadata": {},
     "output_type": "execute_result"
    }
   ],
   "source": [
    "df = pd.read_csv('Bengaluru House Data.csv')\n",
    "df"
   ]
  },
  {
   "cell_type": "markdown",
   "id": "6ba5e5dd-fbcb-46a2-9cec-9e40ce49c5ef",
   "metadata": {},
   "source": [
    "Dropping unnecessary columns from the dataframe:"
   ]
  },
  {
   "cell_type": "code",
   "execution_count": 3,
   "id": "b929bf50-313b-4d38-a120-3d07cde76242",
   "metadata": {
    "tags": []
   },
   "outputs": [
    {
     "name": "stdout",
     "output_type": "stream",
     "text": [
      "<class 'pandas.core.frame.DataFrame'>\n",
      "RangeIndex: 13320 entries, 0 to 13319\n",
      "Data columns (total 7 columns):\n",
      " #   Column      Non-Null Count  Dtype  \n",
      "---  ------      --------------  -----  \n",
      " 0   area_type   13320 non-null  object \n",
      " 1   location    13319 non-null  object \n",
      " 2   size        13304 non-null  object \n",
      " 3   total_sqft  13320 non-null  object \n",
      " 4   bath        13247 non-null  float64\n",
      " 5   balcony     12711 non-null  float64\n",
      " 6   price       13320 non-null  float64\n",
      "dtypes: float64(3), object(4)\n",
      "memory usage: 728.6+ KB\n"
     ]
    }
   ],
   "source": [
    "df = df.drop(['availability','society'], axis= 'columns')\n",
    "df.info()"
   ]
  },
  {
   "cell_type": "markdown",
   "id": "e3f6cd8a-dac8-4236-a8b8-defc0a99b6d2",
   "metadata": {},
   "source": [
    "As we can see some columns contains __objects__ instead of __floats__ or numerical values, so we need to change them. First we will change the '__bhk__' column."
   ]
  },
  {
   "cell_type": "code",
   "execution_count": 4,
   "id": "1857cdcb-1d91-449c-8f48-149821480a25",
   "metadata": {
    "tags": []
   },
   "outputs": [],
   "source": [
    "# Splitting and only keeping the numbers of the 'size' column:\n",
    "\n",
    "df['bhk'] = df['size'].str.split(' ').str[0]\n",
    "\n",
    "# Converting the new 'bhk' column to integers from strings:\n",
    "\n",
    "df['bhk'] = pd.to_numeric(df['bhk'])\n",
    "\n",
    "# Dropping the original 'size' column from the dataframe:\n",
    "\n",
    "df = df.drop('size', axis= 'columns')"
   ]
  },
  {
   "cell_type": "markdown",
   "id": "a4765d97-7fa8-4c0a-ba18-e8f3ee478e08",
   "metadata": {},
   "source": [
    "Now let's see how many different locations are there and how many times they appear in the dataset. "
   ]
  },
  {
   "cell_type": "code",
   "execution_count": 5,
   "id": "c4c1c32c-a7f6-4799-be2d-6dac70588ce5",
   "metadata": {
    "tags": []
   },
   "outputs": [
    {
     "data": {
      "text/plain": [
       "location\n",
       "Whitefield                        540\n",
       "Sarjapur  Road                    399\n",
       "Electronic City                   302\n",
       "Kanakpura Road                    273\n",
       "Thanisandra                       234\n",
       "                                 ... \n",
       "Bapuji Layout                       1\n",
       "1st Stage Radha Krishna Layout      1\n",
       "BEML Layout 5th stage               1\n",
       "singapura paradise                  1\n",
       "Abshot Layout                       1\n",
       "Name: count, Length: 1305, dtype: int64"
      ]
     },
     "execution_count": 5,
     "metadata": {},
     "output_type": "execute_result"
    }
   ],
   "source": [
    "# Getting the value counts of the unique locations in the dataframe:\n",
    "\n",
    "location = df['location'].value_counts()\n",
    "location"
   ]
  },
  {
   "cell_type": "markdown",
   "id": "f0db0162-1e28-4d35-99de-c703670fa1c7",
   "metadata": {},
   "source": [
    "So there are many locations to work with, but as we can see some locations only appear once in the entire dataset. That makes them irrelivant for the model. Therefore we will now eliminate all those locations that appear less than at least 15 times in the dataset.\n",
    "\n",
    "__Note__: 15 is just a random number."
   ]
  },
  {
   "cell_type": "code",
   "execution_count": 6,
   "id": "7ef4ef3d-b610-41fe-ae24-c624e95f62c5",
   "metadata": {
    "tags": []
   },
   "outputs": [
    {
     "name": "stdout",
     "output_type": "stream",
     "text": [
      "1120 locatons appear less than 15 times.\n"
     ]
    }
   ],
   "source": [
    "# Getting locations that appears less than 15 times:\n",
    "\n",
    "location_below_15 = list(location[location < 15].index)\n",
    "\n",
    "print(f'{len(location_below_15)} locatons appear less than 15 times.')"
   ]
  },
  {
   "cell_type": "markdown",
   "id": "aeb77d12-102f-4ba8-8027-e0ff9af93e02",
   "metadata": {},
   "source": [
    "Dropping all of them from the data frame."
   ]
  },
  {
   "cell_type": "code",
   "execution_count": 7,
   "id": "a39a2248-08ae-40d7-a2b6-97f13a295905",
   "metadata": {
    "tags": []
   },
   "outputs": [
    {
     "data": {
      "text/plain": [
       "location\n",
       "Whitefield         540\n",
       "Sarjapur  Road     399\n",
       "Electronic City    302\n",
       "Kanakpura Road     273\n",
       "Thanisandra        234\n",
       "                  ... \n",
       "Nagavarapalya       15\n",
       "Varthur Road        15\n",
       "Chamrajpet          15\n",
       "Kodihalli           15\n",
       "Benson Town         15\n",
       "Name: count, Length: 185, dtype: int64"
      ]
     },
     "execution_count": 7,
     "metadata": {},
     "output_type": "execute_result"
    }
   ],
   "source": [
    "# Making 'locations' as the index: \n",
    "\n",
    "df.set_index('location', inplace= True)\n",
    "\n",
    "# Dropping 'locations_bellow_15':\n",
    "\n",
    "df = df.drop(location_below_15)\n",
    "\n",
    "# Reseting the index:\n",
    "\n",
    "df.reset_index(inplace= True)\n",
    "\n",
    "# Counting the locations again:\n",
    "\n",
    "df['location'].value_counts()"
   ]
  },
  {
   "cell_type": "markdown",
   "id": "a678c34f-a51d-4c5c-a731-cc998a8dc30d",
   "metadata": {},
   "source": [
    "As we can see the lowest number of times a location appears in the dataset is __15__. Now let's see how many unique values are there in the '__total_sqft__' column and if we can convert them to numeric values right away."
   ]
  },
  {
   "cell_type": "code",
   "execution_count": 8,
   "id": "2a8bcb71-db23-43eb-95ec-880c40993aa7",
   "metadata": {
    "tags": []
   },
   "outputs": [
    {
     "data": {
      "text/plain": [
       "array(['1056', '2600', '1440', ..., '1133 - 1384', '774', '4689'],\n",
       "      dtype=object)"
      ]
     },
     "execution_count": 8,
     "metadata": {},
     "output_type": "execute_result"
    }
   ],
   "source": [
    "# Getting all the unique values of the 'total_sqft' column:\n",
    "\n",
    "df['total_sqft'].unique()"
   ]
  },
  {
   "cell_type": "markdown",
   "id": "01f15429-18cc-4014-84b8-70cf860c190f",
   "metadata": {},
   "source": [
    "So there are values like '__1133 - 1384__' in the column that are not consistent with the other values. On examining the dataset I find that many values are not even in square feet but '__Sq. Yards__', '__Sq. Meters__', '__Acres__', and many other units. That is a big problem and very difficult for a model to understand this inconsistency."
   ]
  },
  {
   "cell_type": "code",
   "execution_count": 9,
   "id": "7bab3984-b163-422c-85c5-e0e77c01d8b1",
   "metadata": {
    "tags": []
   },
   "outputs": [
    {
     "name": "stdout",
     "output_type": "stream",
     "text": [
      "No. of items in range: 191\n",
      "No. of items in other units: 23\n"
     ]
    }
   ],
   "source": [
    "# Counting the number of items that are in a range:\n",
    "\n",
    "items_in_range = df['total_sqft'].str.contains('-')==True\n",
    "\n",
    "print(f'No. of items in range: {items_in_range.value_counts()[1]}')\n",
    "\n",
    "# Counting the number of items that are in a other units of measurement:\n",
    "\n",
    "other_units = df['total_sqft'].str.contains('Acres|Perch|Cents|Guntha|Grounds|Sq. Meter|Sq. Yards') == True\n",
    "\n",
    "print(f'No. of items in other units: {other_units.value_counts()[1]}')"
   ]
  },
  {
   "cell_type": "markdown",
   "id": "5c1bcda0-47d2-45b1-b86d-efbcdda5e57d",
   "metadata": {},
   "source": [
    "The best way of dealing with the situation is to take the first number of the items that are in a range and get rid of any items that are not in square feet. But as the dataset is big enough, we will remove all of them."
   ]
  },
  {
   "cell_type": "code",
   "execution_count": 10,
   "id": "1f490734-df75-4d11-b15b-26bec70d58cb",
   "metadata": {
    "tags": []
   },
   "outputs": [],
   "source": [
    "# Getting rid of all the rows that are not in square feet or are in a range:\n",
    "\n",
    "df = df[ df['total_sqft'].str.contains('-|Acres|Cents|Guntha|Perch|Grounds|Sq. Meter|Sq. Yards') == False ]\n",
    "\n",
    "# Converting the values to numeric:\n",
    "\n",
    "df['total_sqft'] = pd.to_numeric(df['total_sqft'])"
   ]
  },
  {
   "cell_type": "markdown",
   "id": "a88a174f-96b7-42b2-b7ba-244f7130fb1e",
   "metadata": {},
   "source": [
    "Now let's see again how many columns are still '__objects__' instead of '__floats__'."
   ]
  },
  {
   "cell_type": "code",
   "execution_count": 11,
   "id": "901b4925-c9f6-4c34-9245-4fff69e2012d",
   "metadata": {
    "tags": []
   },
   "outputs": [
    {
     "data": {
      "text/plain": [
       "location       object\n",
       "area_type      object\n",
       "total_sqft    float64\n",
       "bath          float64\n",
       "balcony       float64\n",
       "price         float64\n",
       "bhk           float64\n",
       "dtype: object"
      ]
     },
     "execution_count": 11,
     "metadata": {},
     "output_type": "execute_result"
    }
   ],
   "source": [
    "df.dtypes"
   ]
  },
  {
   "cell_type": "markdown",
   "id": "7c1443bd-8d63-41a4-bbb8-e724d2a0147f",
   "metadata": {},
   "source": [
    "Now only the __locations__ and '__area type__' are strings. We will deal with them later. But first, let's see how many __null values__ are there in the dataset. "
   ]
  },
  {
   "cell_type": "code",
   "execution_count": 12,
   "id": "175e1875",
   "metadata": {
    "tags": []
   },
   "outputs": [
    {
     "data": {
      "text/plain": [
       "location        1\n",
       "area_type       0\n",
       "total_sqft      0\n",
       "bath           13\n",
       "balcony       339\n",
       "price           0\n",
       "bhk             6\n",
       "dtype: int64"
      ]
     },
     "execution_count": 12,
     "metadata": {},
     "output_type": "execute_result"
    }
   ],
   "source": [
    "df.isna().sum()"
   ]
  },
  {
   "cell_type": "markdown",
   "id": "0be3b6af-84fd-4108-85b1-65ca31709246",
   "metadata": {},
   "source": [
    "So there are many __null values__. We will get rid of them too."
   ]
  },
  {
   "cell_type": "code",
   "execution_count": 13,
   "id": "5871a68f-0fa5-4134-b6c7-0c3d0a63ee3a",
   "metadata": {
    "tags": []
   },
   "outputs": [],
   "source": [
    "df = df.dropna()"
   ]
  },
  {
   "cell_type": "markdown",
   "id": "4740908c-d1bf-429e-b33e-19727a1157f4",
   "metadata": {
    "tags": []
   },
   "source": [
    "It is pretty much intutional that bathrooms more than rooms are unusual. So let's see if we have that abnormality in the dataset. Though we could accept at least one additional bathroom."
   ]
  },
  {
   "cell_type": "code",
   "execution_count": 14,
   "id": "4e2f4ff5-3190-4ef9-acee-f508bdf69d3e",
   "metadata": {
    "tags": []
   },
   "outputs": [
    {
     "name": "stdout",
     "output_type": "stream",
     "text": [
      "No. of houses with unusual no. of bathrooms: 91\n"
     ]
    }
   ],
   "source": [
    "# Checking if we have more bathrooms:\n",
    "\n",
    "baths = df['bath'] > df['bhk'] + 1 \n",
    "\n",
    "print(f'No. of houses with unusual no. of bathrooms: {baths.value_counts()[1]}')"
   ]
  },
  {
   "cell_type": "markdown",
   "id": "710e242f-3446-4da9-aaf0-7777b819c6a8",
   "metadata": {},
   "source": [
    "Removing them:"
   ]
  },
  {
   "cell_type": "code",
   "execution_count": 15,
   "id": "10b916a1-d24c-41ed-9fd1-59e359ee5219",
   "metadata": {},
   "outputs": [],
   "source": [
    "df = df.drop(df[baths].index)"
   ]
  },
  {
   "cell_type": "markdown",
   "id": "47c989d5-9649-4b56-ba97-ddb46f09e6a8",
   "metadata": {},
   "source": [
    "Now let's see how distributed the '__total_sqft__' column is. Too much distribution could hinder the model's performance."
   ]
  },
  {
   "cell_type": "code",
   "execution_count": 16,
   "id": "2e18c397-43a6-4c8c-a8ae-808db8526594",
   "metadata": {},
   "outputs": [
    {
     "data": {
      "image/png": "[encoded data removed]",
      "text/plain": [
       "<Figure size 1000x500 with 1 Axes>"
      ]
     },
     "metadata": {},
     "output_type": "display_data"
    }
   ],
   "source": [
    "# Seeing how distributed the numbers are using a box plot:\n",
    "\n",
    "plt.style.use('ggplot')\n",
    "plt.rcParams['figure.figsize'] = [10,5]\n",
    "    \n",
    "ax = df['total_sqft'].plot(kind= 'box')\n",
    "\n",
    "ax.set_title('Box Plot')\n",
    "ax.set_ylabel('Sq. ft >')\n",
    "\n",
    "plt.show()"
   ]
  },
  {
   "cell_type": "markdown",
   "id": "447771ab-8d15-4b32-a4e2-fd93a6c8ec88",
   "metadata": {},
   "source": [
    "As we can see the distribution is very uneven. We will use __Inter Quartile Range__ (__IQR__) to get rid of extremely small and large values or __outliers__."
   ]
  },
  {
   "cell_type": "code",
   "execution_count": 17,
   "id": "c7129a7c-409d-420b-8a95-adc655a76825",
   "metadata": {},
   "outputs": [
    {
     "data": {
      "image/png": "[encoded data removed]",
      "text/plain": [
       "<Figure size 1000x500 with 1 Axes>"
      ]
     },
     "metadata": {},
     "output_type": "display_data"
    }
   ],
   "source": [
    "# Calculating Q1, Q2 and IQR:\n",
    "\n",
    "Q1 = df['total_sqft'].quantile(0.25) #... Q1 is the first 25% of the data.\n",
    "Q3 = df['total_sqft'].quantile(0.75) #... Q2 is the first 75% of the data.\n",
    "\n",
    "Iqr = Q3 - Q1 #... IQR is the difference between the two Quartiles.\n",
    "\n",
    "# Getting rid of the outliers:\n",
    "\n",
    "df = df[ (df['total_sqft'] >= Q1 - 1.5 * Iqr) & \n",
    "         (df['total_sqft'] <= Q3 + 1.5 * Iqr) ] #... The formula is standard.\n",
    "\n",
    "# Plotting the distribution again:\n",
    "\n",
    "ax = df['total_sqft'].plot(kind= 'box')\n",
    "\n",
    "ax.set_title('Box Plot')\n",
    "ax.set_ylabel('Sq. ft >')\n",
    "\n",
    "plt.show()"
   ]
  },
  {
   "cell_type": "markdown",
   "id": "9843e44d-1272-4ed9-a439-364979554fcf",
   "metadata": {},
   "source": [
    "Something else that could also hinder our model is the __price per square foot__. An abnormal price for each square foot will influence the model's accuracy. So we will calculate it and see its distribution."
   ]
  },
  {
   "cell_type": "code",
   "execution_count": 18,
   "id": "7e6198ec-1fc2-488d-9321-14a448c31f28",
   "metadata": {
    "tags": []
   },
   "outputs": [
    {
     "data": {
      "image/png": "[encoded data removed]",
      "text/plain": [
       "<Figure size 1000x500 with 1 Axes>"
      ]
     },
     "metadata": {},
     "output_type": "display_data"
    }
   ],
   "source": [
    "# Calculating price per square foot of each house:\n",
    "\n",
    "df['price_per_sqft'] = df['price'] * 100000 / df['total_sqft']\n",
    "\n",
    "# Seeing the distribution of the column with a box plot:\n",
    "\n",
    "ax = df['price_per_sqft'].plot(kind= 'box')\n",
    "\n",
    "ax.set_title('Box Plot')\n",
    "ax.set_ylabel('Price >')\n",
    "\n",
    "plt.show()"
   ]
  },
  {
   "cell_type": "markdown",
   "id": "750f4516-738e-4760-9ef1-3cac14c955e4",
   "metadata": {},
   "source": [
    "So it's also quite uneven. Let's remove those outliers from the data using the __IQR__."
   ]
  },
  {
   "cell_type": "code",
   "execution_count": 19,
   "id": "e90f4fbe-b144-4b77-b416-ba1fda9c2ef5",
   "metadata": {
    "tags": []
   },
   "outputs": [
    {
     "data": {
      "image/png": "[encoded data removed]",
      "text/plain": [
       "<Figure size 1000x500 with 1 Axes>"
      ]
     },
     "metadata": {},
     "output_type": "display_data"
    }
   ],
   "source": [
    "# Calculating Q1, Q2 and IQR:\n",
    "\n",
    "q1 = df['price_per_sqft'].quantile(0.25)\n",
    "q3 = df['price_per_sqft'].quantile(0.75)\n",
    "\n",
    "iqr = q3 - q1\n",
    "\n",
    "# Getting rid of the outliers:\n",
    "\n",
    "df = df[ (df['price_per_sqft'] >= q1 - 1.5 * iqr) & \n",
    "         (df['price_per_sqft'] <= q3 + 1.5 * iqr) ] \n",
    "\n",
    "# Plotting the distribution again:\n",
    "\n",
    "ax = df['price_per_sqft'].plot(kind= 'box')\n",
    "\n",
    "ax.set_title('Box Plot')\n",
    "ax.set_ylabel('Price >')\n",
    "\n",
    "plt.show()\n",
    "\n",
    "# Dropping the new column:\n",
    "\n",
    "df = df.drop('price_per_sqft', axis= 'columns')"
   ]
  },
  {
   "cell_type": "markdown",
   "id": "c813a70d-b32d-4f6c-a1e6-6466094b33e7",
   "metadata": {},
   "source": [
    "There's more, the average size of one bhk cannot be less than a certain size. 1 bhk cannot certainly be 100 sqft. After looking I found that a 1 bhk apartment is at least __400-450 sqft__. So we can use a formula that divides total sqft with bhk and anything under __400 sqft__ will be discarded as an outlier."
   ]
  },
  {
   "cell_type": "code",
   "execution_count": 20,
   "id": "ef4613e6-abb3-4bd3-b94c-e2d455d7bb78",
   "metadata": {},
   "outputs": [],
   "source": [
    "# Dividing 'total_sqft' by 'bhk' to get sqft per bhk:\n",
    "\n",
    "sqft_per_bhk = df['total_sqft'] / df['bhk']\n",
    "\n",
    "# Getting items that are less than 400 sqft:\n",
    "\n",
    "items_less_than_400 = sqft_per_bhk < 400\n",
    "\n",
    "# Removing them:\n",
    "\n",
    "df = df[~items_less_than_400]"
   ]
  },
  {
   "cell_type": "markdown",
   "id": "4593d3c3-a32e-48c9-8306-762808821b5a",
   "metadata": {},
   "source": [
    "Now we are done with the cleaning. We will see how many observations are left to prepare our model. "
   ]
  },
  {
   "cell_type": "code",
   "execution_count": 21,
   "id": "1ad30b41-642a-439d-a748-5bceb1f51ac3",
   "metadata": {
    "tags": []
   },
   "outputs": [
    {
     "name": "stdout",
     "output_type": "stream",
     "text": [
      "We have 7333 rows & 7 columns left.\n"
     ]
    }
   ],
   "source": [
    "print(f'We have {df.shape[0]} rows & {df.shape[1]} columns left.')"
   ]
  },
  {
   "cell_type": "markdown",
   "id": "12216c34-7f34-45d9-adf3-39f0a33d48cc",
   "metadata": {},
   "source": [
    "We will now start to build a model. First, we need to create dummy variables for __locations__ and __area types__ to make them compatible with our model."
   ]
  },
  {
   "cell_type": "code",
   "execution_count": 22,
   "id": "a687f58e-5b23-4249-a5b2-a9af99999ade",
   "metadata": {
    "tags": []
   },
   "outputs": [
    {
     "name": "stdout",
     "output_type": "stream",
     "text": [
      "The data frame has 7333 rows & 193 columns.\n",
      "\n",
      "The first 5 rows & 9 columns of the data frame:\n",
      "\n"
     ]
    },
    {
     "data": {
      "text/html": [
       "<div>\n",
       "<style scoped>\n",
       "    .dataframe tbody tr th:only-of-type {\n",
       "        vertical-align: middle;\n",
       "    }\n",
       "\n",
       "    .dataframe tbody tr th {\n",
       "        vertical-align: top;\n",
       "    }\n",
       "\n",
       "    .dataframe thead th {\n",
       "        text-align: right;\n",
       "    }\n",
       "</style>\n",
       "<table border=\"1\" class=\"dataframe\">\n",
       "  <thead>\n",
       "    <tr style=\"text-align: right;\">\n",
       "      <th></th>\n",
       "      <th>total_sqft</th>\n",
       "      <th>bath</th>\n",
       "      <th>balcony</th>\n",
       "      <th>price</th>\n",
       "      <th>bhk</th>\n",
       "      <th>1st Phase JP Nagar</th>\n",
       "      <th>5th Phase JP Nagar</th>\n",
       "      <th>6th Phase JP Nagar</th>\n",
       "      <th>7th Phase JP Nagar</th>\n",
       "    </tr>\n",
       "  </thead>\n",
       "  <tbody>\n",
       "    <tr>\n",
       "      <th>0</th>\n",
       "      <td>1056.0</td>\n",
       "      <td>2.0</td>\n",
       "      <td>1.0</td>\n",
       "      <td>39.07</td>\n",
       "      <td>2.0</td>\n",
       "      <td>False</td>\n",
       "      <td>False</td>\n",
       "      <td>False</td>\n",
       "      <td>False</td>\n",
       "    </tr>\n",
       "    <tr>\n",
       "      <th>1</th>\n",
       "      <td>1440.0</td>\n",
       "      <td>2.0</td>\n",
       "      <td>3.0</td>\n",
       "      <td>62.00</td>\n",
       "      <td>3.0</td>\n",
       "      <td>False</td>\n",
       "      <td>False</td>\n",
       "      <td>False</td>\n",
       "      <td>False</td>\n",
       "    </tr>\n",
       "    <tr>\n",
       "      <th>2</th>\n",
       "      <td>1521.0</td>\n",
       "      <td>3.0</td>\n",
       "      <td>1.0</td>\n",
       "      <td>95.00</td>\n",
       "      <td>3.0</td>\n",
       "      <td>False</td>\n",
       "      <td>False</td>\n",
       "      <td>False</td>\n",
       "      <td>False</td>\n",
       "    </tr>\n",
       "    <tr>\n",
       "      <th>3</th>\n",
       "      <td>1200.0</td>\n",
       "      <td>2.0</td>\n",
       "      <td>1.0</td>\n",
       "      <td>51.00</td>\n",
       "      <td>2.0</td>\n",
       "      <td>False</td>\n",
       "      <td>False</td>\n",
       "      <td>False</td>\n",
       "      <td>False</td>\n",
       "    </tr>\n",
       "    <tr>\n",
       "      <th>4</th>\n",
       "      <td>1170.0</td>\n",
       "      <td>2.0</td>\n",
       "      <td>1.0</td>\n",
       "      <td>38.00</td>\n",
       "      <td>2.0</td>\n",
       "      <td>False</td>\n",
       "      <td>False</td>\n",
       "      <td>False</td>\n",
       "      <td>False</td>\n",
       "    </tr>\n",
       "  </tbody>\n",
       "</table>\n",
       "</div>"
      ],
      "text/plain": [
       "   total_sqft  bath  balcony  price  bhk  1st Phase JP Nagar   \n",
       "0      1056.0   2.0      1.0  39.07  2.0               False  \\\n",
       "1      1440.0   2.0      3.0  62.00  3.0               False   \n",
       "2      1521.0   3.0      1.0  95.00  3.0               False   \n",
       "3      1200.0   2.0      1.0  51.00  2.0               False   \n",
       "4      1170.0   2.0      1.0  38.00  2.0               False   \n",
       "\n",
       "   5th Phase JP Nagar  6th Phase JP Nagar  7th Phase JP Nagar  \n",
       "0               False               False               False  \n",
       "1               False               False               False  \n",
       "2               False               False               False  \n",
       "3               False               False               False  \n",
       "4               False               False               False  "
      ]
     },
     "execution_count": 22,
     "metadata": {},
     "output_type": "execute_result"
    }
   ],
   "source": [
    "# Creating dummy variables for locations & area types:\n",
    "\n",
    "location_dummies = pd.get_dummies(df['location'])\n",
    "area_type_dummies = pd.get_dummies(df['area_type'])\n",
    "\n",
    "# Joining them with the original data frame:\n",
    "\n",
    "df = pd.concat([df, location_dummies, area_type_dummies], axis= 'columns')\n",
    "\n",
    "# Dropping the original columns:\n",
    "\n",
    "df = df.drop(['location', 'area_type'], axis= 'columns')\n",
    "\n",
    "# Printing the first 5 rows & 8 columns of the data frame:\n",
    "\n",
    "print(f'The data frame has {df.shape[0]} rows & {df.shape[1]} columns.\\n')\n",
    "\n",
    "print('The first 5 rows & 9 columns of the data frame:\\n')\n",
    "\n",
    "df.iloc[:5, :9].reset_index(drop= True)"
   ]
  },
  {
   "cell_type": "markdown",
   "id": "8495a493-0a3b-48f4-939f-fa43dff75467",
   "metadata": {},
   "source": [
    "Now we will create the x and y variable for our model. "
   ]
  },
  {
   "cell_type": "code",
   "execution_count": 23,
   "id": "c49e0d06-8fdf-4844-be1b-ed8b554494fd",
   "metadata": {},
   "outputs": [],
   "source": [
    "x = df.drop('price', axis= 'columns')\n",
    "\n",
    "y = df['price'].values"
   ]
  },
  {
   "cell_type": "markdown",
   "id": "925712cf-ae42-4147-804f-17b8e48a5ce3",
   "metadata": {},
   "source": [
    "It's time for hyperparameter tuning. We will use four machine learning models — __Suport Vector Regression__, __Lasso Regression__, __Decision Tree Regression__, and __Random Forest Regression__ — with different parameters and try to come out with the best model and parameters for this case."
   ]
  },
  {
   "cell_type": "code",
   "execution_count": 24,
   "id": "f3084d48-597f-4bf3-9ac3-d9cc773ba91a",
   "metadata": {
    "tags": []
   },
   "outputs": [
    {
     "name": "stdout",
     "output_type": "stream",
     "text": [
      "All 4 Models With The Best Parameters & Score: \n",
      "\n",
      "  Model: SVR() \n",
      " Best Parameters: {'kernel': 'linear'} \n",
      " Best Score: 73.77% \n",
      "\n",
      "  Model: Lasso() \n",
      " Best Parameters: {'alpha': 1, 'selection': 'cyclic'} \n",
      " Best Score: 68.51% \n",
      "\n",
      "  Model: DecisionTreeRegressor() \n",
      " Best Parameters: {'criterion': 'squared_error', 'splitter': 'random'} \n",
      " Best Score: 67.26% \n",
      "\n",
      "  Model: RandomForestRegressor() \n",
      " Best Parameters: {'criterion': 'friedman_mse'} \n",
      " Best Score: 76.58% \n",
      "\n"
     ]
    }
   ],
   "source": [
    "# Creating a dictionary with all the models and the parameters:\n",
    "\n",
    "dictionary = { 'model1': SVR(), \n",
    "               'params1': {'kernel': ['rbf','linear','sigmoid']},\n",
    "         \n",
    "               'model2': Lasso(), \n",
    "               'params2': {'alpha': [1,2,3],\n",
    "                           'selection': ['random', 'cyclic']},\n",
    "         \n",
    "               'model3': DecisionTreeRegressor(), \n",
    "               'params3': {'criterion': ['squared_error', 'friedman_mse'], \n",
    "                           'splitter': ['best', 'random']},\n",
    "         \n",
    "               'model4': RandomForestRegressor(), \n",
    "               'params4': {'criterion': ['squared_error', 'friedman_mse']} } \n",
    "\n",
    "# Creating a function to get the best score and parameter of the models:\n",
    "\n",
    "def score(model, params): \n",
    "    # Scalling the x variable:\n",
    "    scaler = StandardScaler()\n",
    "    X = scaler.fit_transform(x.values)\n",
    "    # Using grid search cv:\n",
    "    cv = ShuffleSplit(n_splits= 5, test_size= 0.25, random_state= 42)\n",
    "    grid = GridSearchCV(estimator= model, param_grid= params, cv= cv)\n",
    "    grid.fit(X,y)\n",
    "    # Getting the best scores:\n",
    "    best_score = round(grid.best_score_ * 100, 2)\n",
    "    \n",
    "    print(f'  Model: {model} \\n' +\n",
    "          f' Best Parameters: {grid.best_params_} \\n' +\n",
    "          f' Best Score: {best_score}% \\n')\n",
    "    \n",
    "\n",
    "print('All 4 Models With The Best Parameters & Score: \\n')\n",
    "\n",
    "# Running the function with different models:\n",
    "\n",
    "score(dictionary['model1'], dictionary['params1'])\n",
    "score(dictionary['model2'], dictionary['params2'])\n",
    "score(dictionary['model3'], dictionary['params3'])\n",
    "score(dictionary['model4'], dictionary['params4'])"
   ]
  },
  {
   "cell_type": "markdown",
   "id": "4608ced1-bd43-4c69-bdfd-3f0dbdfaa5b8",
   "metadata": {},
   "source": [
    "So the __Random Forest Regression__ model has the highest score. We will use that as our preferred model to make predictions. We will also create a function that will help us to do predictions hassle-free."
   ]
  },
  {
   "cell_type": "code",
   "execution_count": 25,
   "id": "683af59e-bc66-4cab-bf5e-047cdd0350e5",
   "metadata": {
    "tags": []
   },
   "outputs": [],
   "source": [
    "# Scalling the x variable:\n",
    "    \n",
    "scaler = StandardScaler()\n",
    "\n",
    "X = scaler.fit_transform(x.values)\n",
    "\n",
    "# Fitting the model:\n",
    "\n",
    "model = RandomForestRegressor(criterion= 'friedman_mse')\n",
    "model.fit(X,y)\n",
    "\n",
    "# Creating a function to make predictions easy:\n",
    "\n",
    "def predict_price(location,area_type,sqft,bath,balcony,bhk):   \n",
    "    # Finding the location and area type from the columns:\n",
    "    loc_index = np.where(x.columns==location)[0][0]\n",
    "    area_type_index = np.where(x.columns==area_type)[0][0]\n",
    "    # Creating zeroes the same as the number of columns in the data frame:\n",
    "    X = np.zeros(len(x.columns)) \n",
    "    # Replacing the first four zeroes with the other input variables:\n",
    "    X[0] = sqft\n",
    "    X[1] = bath\n",
    "    X[2] = balcony\n",
    "    X[3] = bhk    \n",
    "    # Finding the location and the area type and replacing it with 1:\n",
    "    if loc_index >= 0:\n",
    "        X[loc_index] = 1\n",
    "    if area_type_index >= 0:\n",
    "        X[area_type_index] = 1\n",
    "        \n",
    "    # Returning the prediction result:\n",
    "    return model.predict([X])[0]"
   ]
  },
  {
   "cell_type": "markdown",
   "id": "fc00bb7a-64c2-4218-acf7-74c954e0aafc",
   "metadata": {},
   "source": [
    "Now we will just make predictions for three random houses using the __location__, the __area type__, total __square foot__ of the house,no. of __balconies__ available, no. of __bathrooms__,  and total __Bhk__.\n",
    "\n",
    "The price of the following three houses will be predicted by the model:\n",
    "\n",
    "    1) Location = Whitefield\n",
    "       Area Type = Super Built-up Area\n",
    "       Sqft = 2753\n",
    "       Balcony = 1\n",
    "       Bath = 4\n",
    "       Bhk = 3\n",
    "           \n",
    "    2) Location = 8th Phase JP Nagar\n",
    "       Area Type = Built-up Area\n",
    "       Sqft = 3500\n",
    "       Balcony = 2\n",
    "       Bath = 2\n",
    "       Bhk = 3\n",
    "           \n",
    "    3) Location = Sarjapur  Road\n",
    "       Area Type = Super Built-up Area\n",
    "       Sqft = 1507\n",
    "       Bath = 3\n",
    "       Balcony = 2\n",
    "       Bhk = 3  "
   ]
  },
  {
   "cell_type": "code",
   "execution_count": 26,
   "id": "77336e50-8244-47e8-b2ba-8ea1d4845a74",
   "metadata": {
    "tags": []
   },
   "outputs": [
    {
     "name": "stdout",
     "output_type": "stream",
     "text": [
      "Prediction Results:\n",
      " Price of 1st house is Rs. 17364730.0 \n",
      " Price of 2nd house is Rs. 17418466.67 \n",
      " Price of 3rd house is Rs. 17128960.0 \n",
      "\n"
     ]
    }
   ],
   "source": [
    "# Creating variables for each prediction result:\n",
    "\n",
    "result_1 = predict_price('Whitefield', 'Super built-up  Area',\n",
    "                          2753, 4, 1, 3)\n",
    "result_2 = predict_price('8th Phase JP Nagar', 'Built-up  Area',\n",
    "                          3500, 2, 2, 3)\n",
    "result_3 = predict_price('Sarjapur  Road', 'Super built-up  Area',\n",
    "                          1507, 3, 2, 3)\n",
    "\n",
    "# Predicting the prices:\n",
    "\n",
    "print('Prediction Results:')\n",
    "\n",
    "print(f' Price of 1st house is Rs. {round(result_1 * 100000, 2)} \\n' + \n",
    "      f' Price of 2nd house is Rs. {round(result_2 * 100000, 2)} \\n' +\n",
    "      f' Price of 3rd house is Rs. {round(result_3 * 100000, 2)} \\n')"
   ]
  },
  {
   "cell_type": "markdown",
   "id": "be9e9ac0-3af9-4733-afdd-e292677b649b",
   "metadata": {},
   "source": [
    "__Note__: The price may vary each time the model is run."
   ]
  },
  {
   "cell_type": "markdown",
   "id": "20f73aa9-e420-4667-b5e9-e3d68a008555",
   "metadata": {},
   "source": [
    "__~ Created by Sourin Das__"
   ]
  }
 ],
 "metadata": {
  "kernelspec": {
   "display_name": "Python 3 (ipykernel)",
   "language": "python",
   "name": "python3"
  },
  "language_info": {
   "codemirror_mode": {
    "name": "ipython",
    "version": 3
   },
   "file_extension": ".py",
   "mimetype": "text/x-python",
   "name": "python",
   "nbconvert_exporter": "python",
   "pygments_lexer": "ipython3",
   "version": "3.11.3"
  }
 },
 "nbformat": 4,
 "nbformat_minor": 5
}
